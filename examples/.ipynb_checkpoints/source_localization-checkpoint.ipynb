{
 "cells": [
  {
   "cell_type": "markdown",
   "id": "2947c985-edb4-4e37-ac38-e2abc335d541",
   "metadata": {
    "tags": []
   },
   "source": [
    "## Compute source time course (STC) from Raw and Epochs data object\n",
    "#### Input: *_preprocessed-raw.fif, -epo.fif\n",
    "####  Output: *.stc"
   ]
  },
  {
   "cell_type": "code",
   "execution_count": 2,
   "id": "93bc0409-9fd5-479d-8dde-25a747c13efe",
   "metadata": {
    "tags": []
   },
   "outputs": [
    {
     "name": "stdout",
     "output_type": "stream",
     "text": [
      "0 files missing from root.txt in /home/wanglab/mne_data/MNE-fsaverage-data\n",
      "0 files missing from bem.txt in /home/wanglab/mne_data/MNE-fsaverage-data/fsaverage\n"
     ]
    }
   ],
   "source": [
    "import sys\n",
    "sys.path.append('/home/wanglab/Documents/George Kenefati/Code bank/eeg_toolkit/')\n",
    "import os\n",
    "import mne\n",
    "import eeg_toolkit\n",
    "from eeg_toolkit import source_localization"
   ]
  },
  {
   "cell_type": "code",
   "execution_count": 3,
   "id": "7b590fcb-0b78-443c-82ec-79cc4317f18a",
   "metadata": {
    "tags": []
   },
   "outputs": [],
   "source": [
    "# Viable subjects below "
   ]
  },
  {
   "cell_type": "code",
   "execution_count": 4,
   "id": "589b3318-9b7a-4db5-9d30-84c1544e9134",
   "metadata": {
    "jupyter": {
     "source_hidden": true
    }
   },
   "outputs": [],
   "source": [
    "sub_ids_lst = [\n",
    " # '006', X\n",
    " '007', #32ch\n",
    " '008', #32ch\n",
    " '009', #32ch\n",
    " '010', #32ch\n",
    " '013', #32ch\n",
    " '014', #32ch\n",
    " '015', #32ch\n",
    " # '016', X\n",
    " # '017', X\n",
    " '018',\n",
    " # '019', X\n",
    " '020',\n",
    " '021',\n",
    " '022',\n",
    " '023',\n",
    " '024',\n",
    " # '025', X\n",
    " # '026', X\n",
    " '027',\n",
    " # '028', X\n",
    " '029',\n",
    " '030',\n",
    " '031',\n",
    " '032',\n",
    " '033',\n",
    " '034',\n",
    " '035',\n",
    " '036',\n",
    " '037',\n",
    " '038',\n",
    " '039',\n",
    " '040',\n",
    " '041',\n",
    " '042',\n",
    " '043',\n",
    " '044',\n",
    " '045',\n",
    " '046',\n",
    " # '047', X\n",
    " '048',\n",
    " '049',\n",
    " '050',\n",
    " '051',\n",
    " '052',\n",
    " '053',\n",
    " '054',\n",
    " '055',\n",
    " '056',\n",
    " '057',\n",
    " '058',\n",
    " 'C1.',\n",
    " 'C2.', \n",
    " 'C3.',  \n",
    " # 'C4.', X\n",
    " 'C5.', \n",
    " 'C6.',\n",
    " 'C7.',\n",
    " 'C8.',\n",
    " 'C9.',\n",
    " 'C10',\n",
    " 'C11',\n",
    " 'C12',\n",
    " 'C13',\n",
    " 'C14',\n",
    " 'C15',\n",
    " 'C16',\n",
    " 'C17',  \n",
    " 'C18',\n",
    " 'C19',\n",
    " 'C20',\n",
    " 'C21',\n",
    " 'C22',\n",
    " # 'C23', X\n",
    " 'C24',\n",
    " 'C25',\n",
    " 'C26',\n",
    " 'C27',\n",
    "]"
   ]
  },
  {
   "cell_type": "code",
   "execution_count": 5,
   "id": "7c3a8fdb-dbfa-42b6-907d-88061fab5ea5",
   "metadata": {},
   "outputs": [
    {
     "name": "stdout",
     "output_type": "stream",
     "text": [
      "Chronics: 43\n",
      "Controls: 25\n",
      "Total: 68\n"
     ]
    }
   ],
   "source": [
    "print(f\"Chronics: {len([el for el in sub_ids_lst if el.startswith('0')])}\")\n",
    "print(f\"Controls: {len([el for el in sub_ids_lst if el.startswith('C')])}\")\n",
    "print(f\"Total: {len(sub_ids_lst)}\")"
   ]
  },
  {
   "cell_type": "code",
   "execution_count": 6,
   "id": "168d00bf-c009-4143-a71d-c7c200ba148b",
   "metadata": {
    "tags": []
   },
   "outputs": [],
   "source": [
    "# Get stc only from selected labels\n",
    "roi_names = [# Left\n",
    "             'rostralanteriorcingulate-lh', # Left Rostral ACC\n",
    "             'caudalanteriorcingulate-lh', # Left Caudal ACC\n",
    "             'postcentral-lh', # Left S1,\n",
    "             'insula-lh', 'superiorfrontal-lh', # Left Insula, Left DL-PFC,\n",
    "             'medialorbitofrontal-lh', # Left Medial-OFC\n",
    "             # Right\n",
    "             'rostralanteriorcingulate-rh', # Right Rostral ACC\n",
    "             'caudalanteriorcingulate-rh', # Right Caudal ACC\n",
    "             'postcentral-rh', # , Right S1\n",
    "             'insula-rh', 'superiorfrontal-rh', # Right Insula, Right DL-PFC\n",
    "             'medialorbitofrontal-rh'] # Right Medial-OFC"
   ]
  },
  {
   "cell_type": "code",
   "execution_count": 7,
   "id": "842b367f-9d3c-4436-868f-6fb7ffe7b719",
   "metadata": {},
   "outputs": [
    {
     "name": "stdout",
     "output_type": "stream",
     "text": [
      "[-2.5,0.0,2.5]\n"
     ]
    }
   ],
   "source": [
    "# Settings\n",
    "times_tup,time_win_path = source_localization.get_time_window(5)\n",
    "\n",
    "# Read in processed raw data\n",
    "data_path = '../Data/Processed Data/'\n",
    "epo_path = '../Data/Processed Data/' + time_win_path\n",
    "save_path_cont = '../Data/STC_Continuous/'\n",
    "save_path_zepo = '../Data/STC_Z_scored_Epochs/' + time_win_path\n",
    "\n",
    "if not os.path.exists(save_path_cont):\n",
    "    os.makedirs(save_path_cont)\n",
    "\n",
    "if not os.path.exists(save_path_zepo):\n",
    "    os.makedirs(save_path_zepo)\n",
    "\n",
    "# Noise cov: crop raw during eyes-open resting condition\n",
    "noise_cov_win = 5.5, 7.5 # rest_min, rest_max"
   ]
  },
  {
   "cell_type": "code",
   "execution_count": 8,
   "id": "0b27ddca-2548-4884-9d57-42ea6d494d76",
   "metadata": {},
   "outputs": [
    {
     "name": "stdout",
     "output_type": "stream",
     "text": [
      "%%%%%%%%%%%%%%\t11\t!! ZEPOCHS !! medialorbitofrontal-rh\t\t%%%%%%%%%%%%%%\n",
      "\n",
      "015_preprocessed-epo.fif\n",
      "Preparing the inverse operator for use...\n",
      "    Scaled noise and source covariance from nave = 1 to nave = 1\n",
      "    Created the regularized inverter\n",
      "    Created an SSP operator (subspace dimension = 1)\n",
      "    Created the whitener using a noise covariance matrix with rank 29 (2 small eigenvalues omitted)\n",
      "    Computing noise-normalization factors (dSPM)...\n",
      "[done]\n",
      "Picked 31 channels from the data\n",
      "Computing inverse...\n",
      "    Eigenleads need to be weighted ...\n",
      "Processing epoch : 1 / 44\n",
      "combining the current components...\n",
      "Processing epoch : 2 / 44\n",
      "combining the current components...\n",
      "Processing epoch : 3 / 44\n",
      "combining the current components...\n",
      "Processing epoch : 4 / 44\n",
      "combining the current components...\n",
      "Processing epoch : 5 / 44\n",
      "combining the current components...\n",
      "Processing epoch : 6 / 44\n",
      "combining the current components...\n",
      "Processing epoch : 7 / 44\n",
      "combining the current components...\n",
      "Processing epoch : 8 / 44\n",
      "combining the current components...\n",
      "Processing epoch : 9 / 44\n",
      "combining the current components...\n",
      "Processing epoch : 10 / 44\n",
      "combining the current components...\n",
      "Processing epoch : 11 / 44\n",
      "combining the current components...\n",
      "Processing epoch : 12 / 44\n",
      "combining the current components...\n",
      "Processing epoch : 13 / 44\n",
      "combining the current components...\n",
      "Processing epoch : 14 / 44\n",
      "combining the current components...\n",
      "Processing epoch : 15 / 44\n",
      "combining the current components...\n",
      "Processing epoch : 16 / 44\n",
      "combining the current components...\n",
      "Processing epoch : 17 / 44\n",
      "combining the current components...\n",
      "Processing epoch : 18 / 44\n",
      "combining the current components...\n",
      "Processing epoch : 19 / 44\n",
      "combining the current components...\n",
      "Processing epoch : 20 / 44\n",
      "combining the current components...\n",
      "Processing epoch : 21 / 44\n",
      "combining the current components...\n",
      "Processing epoch : 22 / 44\n",
      "combining the current components...\n",
      "Processing epoch : 23 / 44\n",
      "combining the current components...\n",
      "Processing epoch : 24 / 44\n",
      "combining the current components...\n",
      "Processing epoch : 25 / 44\n",
      "combining the current components...\n",
      "Processing epoch : 26 / 44\n",
      "combining the current components...\n",
      "Processing epoch : 27 / 44\n",
      "combining the current components...\n",
      "Processing epoch : 28 / 44\n",
      "combining the current components...\n",
      "Processing epoch : 29 / 44\n",
      "combining the current components...\n",
      "Processing epoch : 30 / 44\n",
      "combining the current components...\n",
      "Processing epoch : 31 / 44\n",
      "combining the current components...\n",
      "Processing epoch : 32 / 44\n",
      "combining the current components...\n",
      "Processing epoch : 33 / 44\n",
      "combining the current components...\n",
      "Processing epoch : 34 / 44\n",
      "combining the current components...\n",
      "Processing epoch : 35 / 44\n",
      "combining the current components...\n",
      "Processing epoch : 36 / 44\n",
      "combining the current components...\n",
      "Processing epoch : 37 / 44\n",
      "combining the current components...\n",
      "Processing epoch : 38 / 44\n",
      "combining the current components...\n",
      "Processing epoch : 39 / 44\n",
      "combining the current components...\n",
      "Processing epoch : 40 / 44\n",
      "combining the current components...\n",
      "Processing epoch : 41 / 44\n",
      "combining the current components...\n",
      "Processing epoch : 42 / 44\n",
      "combining the current components...\n",
      "Processing epoch : 43 / 44\n",
      "combining the current components...\n",
      "Processing epoch : 44 / 44\n",
      "combining the current components...\n",
      "[done]\n",
      "Saving file: medialorbitofrontal_stc_zepo.mat\n"
     ]
    }
   ],
   "source": [
    "for sub_id in sub_ids_lst:\n",
    "    _ = source_localization.to_source(sub_id,data_path,epo_path,\n",
    "                                  save_path_cont,\n",
    "                                  save_path_zepo,\n",
    "                                  roi_names,\n",
    "                                  times_tup,\n",
    "                                  noise_cov_win,\n",
    "                                  include_zepochs=True,\n",
    "                                  average_dipoles=True)       "
   ]
  },
  {
   "cell_type": "code",
   "execution_count": null,
   "id": "5ff2ca0f-ec76-40da-a67d-a57d3fb7b3c0",
   "metadata": {},
   "outputs": [],
   "source": []
  }
 ],
 "metadata": {
  "kernelspec": {
   "display_name": "mne",
   "language": "python",
   "name": "mne"
  },
  "language_info": {
   "codemirror_mode": {
    "name": "ipython",
    "version": 3
   },
   "file_extension": ".py",
   "mimetype": "text/x-python",
   "name": "python",
   "nbconvert_exporter": "python",
   "pygments_lexer": "ipython3",
   "version": "3.11.6"
  }
 },
 "nbformat": 4,
 "nbformat_minor": 5
}
