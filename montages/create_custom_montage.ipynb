{
 "cells": [
  {
   "cell_type": "markdown",
   "id": "063999ba-a996-4108-a64d-fabe0cf0851e",
   "metadata": {},
   "source": [
    "# Create montage"
   ]
  },
  {
   "cell_type": "code",
   "execution_count": 1,
   "id": "3ee14f7e-0fb9-4b5a-ae89-0496e4c1576d",
   "metadata": {
    "tags": []
   },
   "outputs": [
    {
     "name": "stdout",
     "output_type": "stream",
     "text": [
      "['LPA', 'RPA', 'Nz', 'Fp1', 'Fpz', 'Fp2', 'AF9', 'AF7', 'AF5', 'AF3', 'AF1', 'AFz', 'AF2', 'AF4', 'AF6', 'AF8', 'AF10', 'F9', 'F7', 'F5', 'F3', 'F1', 'Fz', 'F2', 'F4', 'F6', 'F8', 'F10', 'FT9', 'FT7', 'FC5', 'FC3', 'FC1', 'FCz', 'FC2', 'FC4', 'FC6', 'FT8', 'FT10', 'T9', 'T7', 'C5', 'C3', 'C1', 'Cz', 'C2', 'C4', 'C6', 'T8', 'T10', 'TP9', 'TP7', 'CP5', 'CP3', 'CP1', 'CPz', 'CP2', 'CP4', 'CP6', 'TP8', 'TP10', 'P9', 'P7', 'P5', 'P3', 'P1', 'Pz', 'P2', 'P4', 'P6', 'P8', 'P10', 'PO9', 'PO7', 'PO5', 'PO3', 'PO1', 'POz', 'PO2', 'PO4', 'PO6', 'PO8', 'PO10', 'O1', 'Oz', 'O2', 'I1', 'Iz', 'I2', 'AFp9h', 'AFp7h', 'AFp5h', 'AFp3h', 'AFp1h', 'AFp2h', 'AFp4h', 'AFp6h', 'AFp8h', 'AFp10h', 'AFF9h', 'AFF7h', 'AFF5h', 'AFF3h', 'AFF1h', 'AFF2h', 'AFF4h', 'AFF6h', 'AFF8h', 'AFF10h', 'FFT9h', 'FFT7h', 'FFC5h', 'FFC3h', 'FFC1h', 'FFC2h', 'FFC4h', 'FFC6h', 'FFT8h', 'FFT10h', 'FTT9h', 'FTT7h', 'FCC5h', 'FCC3h', 'FCC1h', 'FCC2h', 'FCC4h', 'FCC6h', 'FTT8h', 'FTT10h', 'TTP9h', 'TTP7h', 'CCP5h', 'CCP3h', 'CCP1h', 'CCP2h', 'CCP4h', 'CCP6h', 'TTP8h', 'TTP10h', 'TPP9h', 'TPP7h', 'CPP5h', 'CPP3h', 'CPP1h', 'CPP2h', 'CPP4h', 'CPP6h', 'TPP8h', 'TPP10h', 'PPO9h', 'PPO7h', 'PPO5h', 'PPO3h', 'PPO1h', 'PPO2h', 'PPO4h', 'PPO6h', 'PPO8h', 'PPO10h', 'POO9h', 'POO7h', 'POO5h', 'POO3h', 'POO1h', 'POO2h', 'POO4h', 'POO6h', 'POO8h', 'POO10h', 'OI1h', 'OI2h', 'Fp1h', 'Fp2h', 'AF9h', 'AF7h', 'AF5h', 'AF3h', 'AF1h', 'AF2h', 'AF4h', 'AF6h', 'AF8h', 'AF10h', 'F9h', 'F7h', 'F5h', 'F3h', 'F1h', 'F2h', 'F4h', 'F6h', 'F8h', 'F10h', 'FT9h', 'FT7h', 'FC5h', 'FC3h', 'FC1h', 'FC2h', 'FC4h', 'FC6h', 'FT8h', 'FT10h', 'T9h', 'T7h', 'C5h', 'C3h', 'C1h', 'C2h', 'C4h', 'C6h', 'T8h', 'T10h', 'TP9h', 'TP7h', 'CP5h', 'CP3h', 'CP1h', 'CP2h', 'CP4h', 'CP6h', 'TP8h', 'TP10h', 'P9h', 'P7h', 'P5h', 'P3h', 'P1h', 'P2h', 'P4h', 'P6h', 'P8h', 'P10h', 'PO9h', 'PO7h', 'PO5h', 'PO3h', 'PO1h', 'PO2h', 'PO4h', 'PO6h', 'PO8h', 'PO10h', 'O1h', 'O2h', 'I1h', 'I2h', 'AFp9', 'AFp7', 'AFp5', 'AFp3', 'AFp1', 'AFpz', 'AFp2', 'AFp4', 'AFp6', 'AFp8', 'AFp10', 'AFF9', 'AFF7', 'AFF5', 'AFF3', 'AFF1', 'AFFz', 'AFF2', 'AFF4', 'AFF6', 'AFF8', 'AFF10', 'FFT9', 'FFT7', 'FFC5', 'FFC3', 'FFC1', 'FFCz', 'FFC2', 'FFC4', 'FFC6', 'FFT8', 'FFT10', 'FTT9', 'FTT7', 'FCC5', 'FCC3', 'FCC1', 'FCCz', 'FCC2', 'FCC4', 'FCC6', 'FTT8', 'FTT10', 'TTP9', 'TTP7', 'CCP5', 'CCP3', 'CCP1', 'CCPz', 'CCP2', 'CCP4', 'CCP6', 'TTP8', 'TTP10', 'TPP9', 'TPP7', 'CPP5', 'CPP3', 'CPP1', 'CPPz', 'CPP2', 'CPP4', 'CPP6', 'TPP8', 'TPP10', 'PPO9', 'PPO7', 'PPO5', 'PPO3', 'PPO1', 'PPOz', 'PPO2', 'PPO4', 'PPO6', 'PPO8', 'PPO10', 'POO9', 'POO7', 'POO5', 'POO3', 'POO1', 'POOz', 'POO2', 'POO4', 'POO6', 'POO8', 'POO10', 'OI1', 'OIz', 'OI2', 'T3', 'T5', 'T4', 'T6', 'M1', 'M2', 'A1', 'A2', '']\n"
     ]
    }
   ],
   "source": [
    "# open 10-05 to use as reference\n",
    "\n",
    "# ch names\n",
    "with open('standard_1005_chs.txt', 'r') as data:\n",
    "    plaintext = data.read()\n",
    "full_montage_list = plaintext.replace('\\n', ',').split(',') # split turns str into list\n",
    "\n",
    "# xyz coords\n",
    "with open('standard_1005_xyz.txt', 'r') as data:\n",
    "    plaintext = data.read()\n",
    "full_xyz_list = plaintext.replace('\\n', ',').split(',') # split turns str into list\n",
    "\n",
    "print(full_montage_list)\n",
    "# print(full_xyz_list)"
   ]
  },
  {
   "cell_type": "code",
   "execution_count": 2,
   "id": "055147d6-7d91-45aa-ab86-40c6179ddcd9",
   "metadata": {},
   "outputs": [
    {
     "data": {
      "text/plain": [
       "64"
      ]
     },
     "execution_count": 2,
     "metadata": {},
     "output_type": "execute_result"
    }
   ],
   "source": [
    "# import channel names from our 64 channel EEG headset\n",
    "ch_names = ['Fp1', 'Fpz', 'Fp2', 'AF3', 'AF4', 'F11',\n",
    "            'F7', 'F5', 'F3', 'F1', 'Fz', 'F2', 'F4',\n",
    "            'F6', 'F8', 'F12', 'FT11', 'FC5', 'FC3',\n",
    "            'FC1', 'FCz', 'FC2', 'FC4', 'FC6', 'FT12',\n",
    "            'T7', 'C5', 'C3', 'C1', 'Cz', 'C2', 'C4',\n",
    "            'C6', 'T8', 'TP7', 'CP5', 'CP3', 'CP1',\n",
    "            'CPz', 'CP2', 'CP4', 'CP6', 'TP8', 'M1',\n",
    "            'M2', 'P7', 'P5', 'P3', 'P1', 'Pz', 'P2',\n",
    "            'P4', 'P6', 'P8', 'PO7', 'PO3', 'POz',\n",
    "            'PO4', 'PO8', 'O1', 'Oz', 'O2', 'Cb1', 'Cb2']\n",
    "len(ch_names)"
   ]
  },
  {
   "cell_type": "code",
   "execution_count": 3,
   "id": "bf4dbea4-db22-4143-bca9-a97556f26b21",
   "metadata": {},
   "outputs": [
    {
     "name": "stdout",
     "output_type": "stream",
     "text": [
      "58\n",
      "[24, 56, 30, 65, 51, 42, 45, 69, 77, 53, 9, 25, 31, 26, 342, 54, 63, 67, 343, 55, 4, 46, 85, 59, 57, 58, 20, 5, 47, 68, 33, 44, 70, 73, 48, 52, 18, 19, 64, 36, 81, 43, 35, 41, 21, 23, 13, 40, 75, 79, 34, 62, 22, 84, 3, 83, 66, 32]\n"
     ]
    }
   ],
   "source": [
    "# find intersect between the two lists\n",
    "ind_dict_full = dict((k,i) for i,k in enumerate(full_montage_list))\n",
    "\n",
    "# build set\n",
    "intersect = set(full_montage_list).intersection(ch_names)\n",
    "\n",
    "# get list of inds\n",
    "int_inds = [ ind_dict_full[x] for x in intersect ]\n",
    "\n",
    "print(len(int_inds))\n",
    "print(int_inds)"
   ]
  },
  {
   "cell_type": "code",
   "execution_count": 4,
   "id": "65b6a50d-045f-40d3-beed-cb7f5e5b32b8",
   "metadata": {},
   "outputs": [
    {
     "name": "stdout",
     "output_type": "stream",
     "text": [
      "['F11', 'F12', 'FT11', 'FT12', 'Cb1', 'Cb2']\n"
     ]
    }
   ],
   "source": [
    "# find missing channels\n",
    "missing_chs = ch_names.copy()\n",
    "\n",
    "for x in intersect:\n",
    "  if x in missing_chs:\n",
    "    missing_chs.remove(x)\n",
    "    \n",
    "print(missing_chs)"
   ]
  },
  {
   "cell_type": "markdown",
   "id": "486ab470-9fe4-4895-9a0f-2713f8a4c753",
   "metadata": {
    "tags": []
   },
   "source": [
    "# Get ch list in original format with only 64 contacts"
   ]
  },
  {
   "cell_type": "code",
   "execution_count": 5,
   "id": "f3c7dc11-8d87-4458-9bc6-0e11530e541b",
   "metadata": {
    "tags": []
   },
   "outputs": [
    {
     "name": "stdout",
     "output_type": "stream",
     "text": [
      "['F4', 'CP2', 'FC5', 'P1', 'TP7', 'C3', 'C2', 'P6', 'POz', 'CP3', 'AF3', 'F6', 'FC3', 'F8', 'M1', 'CP1', 'P5', 'P2', 'M2', 'CPz', 'Fpz', 'C4', 'O2', 'TP8', 'CP4', 'CP6', 'F3', 'Fp2', 'C6', 'P4', 'FCz', 'Cz', 'P8', 'PO7', 'T8', 'CP5', 'F7', 'F5', 'P3', 'FC6', 'PO8', 'C1', 'FC4', 'C5', 'F1', 'F2', 'AF4', 'T7', 'PO3', 'PO4', 'FC2', 'P7', 'Fz', 'Oz', 'Fp1', 'O1', 'Pz', 'FC1']\n",
      "['51.8362 54.3048 40.8140', '38.3838 -47.0731 90.6950', '-77.2149 18.6433 24.4600', '-28.6203 -80.5249 75.4360', '-84.8302 -46.0217 -7.0560', '-65.3581 -11.6317 64.3580', '37.6720 -9.6241 88.4120', '67.8877 -75.9043 28.0910', '0.2156 -102.1780 50.6080', '-63.5562 -47.0088 65.6240', '-33.7007 76.8371 21.2270', '67.9142 49.8297 16.3670', '-60.1819 22.7162 55.5440', '73.0431 44.4217 -12.0000', '-86.0761 -44.9897 -67.9860', '-35.5131 -47.2919 91.3150', '-67.2723 -76.2907 28.3820', '31.9197 -80.4871 76.7160', ' 85.7939 -45.0093 -68.0310', '0.3858 -47.3180 99.4320', '0.1123 88.2470 -1.7130', '67.1179 -10.9003 63.5800', '29.8426 -112.1560 8.8000', '85.5488 -45.5453 -7.1300', '66.6118 -46.6372 65.5800', '83.3218 -46.1013 31.2060', '-50.2438 53.1112 42.1920', '29.8723 84.8959 -7.0800', '83.4559 -12.7763 29.2080', '55.6667 -78.5602 56.5610', '0.3761 27.3900 88.6680', '0.4009 -9.1670 100.2440', '73.0557 -73.0683 -2.5400', '-54.8404 -97.5279 2.7920', '85.0799 -15.0203 -9.4900', '-79.5922 -46.5507 30.9490', '-70.2629 42.4743 -11.4200', '-64.4658 48.0353 16.9210', '-53.0073 -78.7878 55.9400', '79.5341 19.9357 24.4380', '55.6666 -97.6251 2.7300', '-36.1580 -9.9839 89.7520', '62.2931 23.7228 55.6300', '-80.2801 -13.7597 29.1600', '-27.4958 56.9311 60.3420', '29.5142 57.6019 59.5400', '35.7123 77.7259 21.9560', '-84.1611 -16.0187 -9.3460', '-36.5114 -100.8529 37.1670', '36.7816 -100.8491 36.3970', '34.7841 26.4379 78.8080', '-72.4343 -73.4527 -2.4870', '0.3122 58.5120 66.4620', '0.1076 -114.8920 14.6570', '-29.4367 83.9171 -6.9900', '-29.4134 -112.4490 8.8390', '0.3247 -81.1150 82.6150', '-34.0619 26.0111 79.9870']\n",
      "58\n",
      "58\n"
     ]
    }
   ],
   "source": [
    "new_ch_list = [full_montage_list[x] for x in int_inds] # ch names\n",
    "new_xyz_list = [full_xyz_list[x] for x in int_inds] # xyz  coords\n",
    "\n",
    "print(new_ch_list)\n",
    "print(new_xyz_list)\n",
    "print(len(new_ch_list))\n",
    "print(len(new_xyz_list))"
   ]
  },
  {
   "cell_type": "markdown",
   "id": "808efa5c-186e-4230-82e6-879d8fd43149",
   "metadata": {},
   "source": [
    "# Write new .elc file with new positions and coords"
   ]
  },
  {
   "cell_type": "code",
   "execution_count": 6,
   "id": "4580da1a-f6cf-4ff6-8c58-00fdbc83de88",
   "metadata": {},
   "outputs": [],
   "source": [
    "with open('custom_64_montage.elc', 'w') as data:\n",
    "    # Header\n",
    "    plaintext = data.write('# ASA electrode file' + '\\n' +\n",
    "                           'ReferenceLabel\tavg' + '\\n' +\n",
    "                           'UnitPosition\tmm' + '\\n' +\n",
    "                           'NumberPositions=\t64' + '\\n' +\n",
    "                           'Positions' + '\\n')\n",
    "    \n",
    "    # Positions\n",
    "    \n",
    "    # preserve fiducials\n",
    "    plaintext = data.write('-86.0761 -19.9897 -47.9860' + '\\n')\n",
    "    plaintext = data.write('85.7939 -20.0093 -48.0310' + '\\n')\n",
    "    plaintext = data.write('0.0083 86.8110 -39.9830' + '\\n')\n",
    "    \n",
    "    # add intersect coords\n",
    "    for el in new_xyz_list:\n",
    "        plaintext = data.write(el + '\\n')\n",
    "\n",
    "    # manually add missing coords\n",
    "    plaintext = data.write('-54.9104 -98.0448 -35.4650' + '\\n') # (known) see above notes regarding PO9/PO10\n",
    "    plaintext = data.write('54.9876 -98.0911 -35.5410' + '\\n') # (known)\n",
    "    # below based on image on page 2 of https://www.easycap.de/wp-content/uploads/2018/02/Easycap-10-based-electrode-layouts.pdf\n",
    "    plaintext = data.write('-65.2629 40.4743 -77.9860' + '\\n') # inferred based on F7, M1\n",
    "    plaintext = data.write('68.0431 42.4217 -68.0310' + '\\n') # inferred based on F8, M2\n",
    "    plaintext = data.write('-58.2629 16.3743 -98.9860' + '\\n') # inferred based on F11\n",
    "    plaintext = data.write('61.0431 18.3217 -89.0310' + '\\n') # inferred based on FT10\n",
    "    \n",
    "    # Labels\n",
    "    plaintext = data.write('Labels' + '\\n')\n",
    "\n",
    "    # preserve fiducials\n",
    "    plaintext = data.write('LPA' + '\\n')\n",
    "    plaintext = data.write('RPA' + '\\n')\n",
    "    plaintext = data.write('Nz' + '\\n')\n",
    "    \n",
    "    # add intersect chs\n",
    "    for el in new_ch_list:\n",
    "        plaintext = data.write(el + '\\n')\n",
    "        \n",
    "    # manually add missing channels\n",
    "    plaintext = data.write('Cb1' + '\\n') # (found in 10-05 as PO9)\n",
    "    plaintext = data.write('Cb2' + '\\n') # (found in 10-05 as PO10)\n",
    "    plaintext = data.write('F11' + '\\n') # inferred\n",
    "    plaintext = data.write('F12' + '\\n') # ^\n",
    "    plaintext = data.write('FT11' + '\\n') # ^\n",
    "    plaintext = data.write('FT12' + '\\n') # ^"
   ]
  },
  {
   "cell_type": "markdown",
   "id": "5189feb9-0edd-40c8-9f55-45c5ed0300f6",
   "metadata": {},
   "source": [
    "### Temporary playground for gTec xml montage"
   ]
  },
  {
   "cell_type": "code",
   "execution_count": 2,
   "id": "183af047-1905-4206-926a-5fe3c5d4b824",
   "metadata": {},
   "outputs": [
    {
     "data": {
      "text/plain": [
       "'.xml'"
      ]
     },
     "execution_count": 2,
     "metadata": {},
     "output_type": "execute_result"
    }
   ],
   "source": [
    "import os \n",
    "\n",
    "path='gHIamp_64ch.xml'\n",
    "os.path.splitext(path)[1]"
   ]
  },
  {
   "cell_type": "code",
   "execution_count": null,
   "id": "9f53e433-2273-4c29-bd47-7c42f8dd643c",
   "metadata": {},
   "outputs": [],
   "source": [
    "mne.channe"
   ]
  }
 ],
 "metadata": {
  "kernelspec": {
   "display_name": "mne",
   "language": "python",
   "name": "mne"
  },
  "language_info": {
   "codemirror_mode": {
    "name": "ipython",
    "version": 3
   },
   "file_extension": ".py",
   "mimetype": "text/x-python",
   "name": "python",
   "nbconvert_exporter": "python",
   "pygments_lexer": "ipython3",
   "version": "3.11.6"
  }
 },
 "nbformat": 4,
 "nbformat_minor": 5
}
